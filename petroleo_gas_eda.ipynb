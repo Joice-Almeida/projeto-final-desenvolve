{
  "nbformat": 4,
  "nbformat_minor": 0,
  "metadata": {
    "colab": {
      "private_outputs": true,
      "provenance": [],
      "include_colab_link": true
    },
    "kernelspec": {
      "name": "python3",
      "display_name": "Python 3"
    },
    "language_info": {
      "name": "python"
    }
  },
  "cells": [
    {
      "cell_type": "markdown",
      "metadata": {
        "id": "view-in-github",
        "colab_type": "text"
      },
      "source": [
        "<a href=\"https://colab.research.google.com/github/Joice-Almeida/projeto-final-desenvolve/blob/main/petroleo_gas_eda.ipynb\" target=\"_parent\"><img src=\"https://colab.research.google.com/assets/colab-badge.svg\" alt=\"Open In Colab\"/></a>"
      ]
    },
    {
      "cell_type": "markdown",
      "source": [
        "# Ingestão de Dados(integração com a tabela do bigquery)"
      ],
      "metadata": {
        "id": "1jq0I3j2Vh3N"
      }
    },
    {
      "cell_type": "code",
      "execution_count": null,
      "metadata": {
        "id": "5a75cxYJR87O"
      },
      "outputs": [],
      "source": [
        "!pip install --upgrade google-cloud-bigquery  # instalando a biblioteca do bigquery\n"
      ]
    },
    {
      "cell_type": "code",
      "source": [
        "# autenticação de usuário\n",
        "from google.colab import auth\n",
        "auth.authenticate_user()"
      ],
      "metadata": {
        "id": "lNuiLu_dUT09"
      },
      "execution_count": null,
      "outputs": []
    },
    {
      "cell_type": "code",
      "source": [
        "# importando a biblioteca do bigquery\n",
        "from google.cloud import bigquery\n",
        "\n",
        "# importando as bibliotecas do python\n",
        "import seaborn as sns\n",
        "import pandas as pd\n",
        "import numpy as np\n",
        "import matplotlib.pyplot as plt\n",
        "\n",
        "idProjeto = \"t1engenhariadados\" # id do projeto no bigquery\n",
        "\n",
        "cliente = bigquery.Client(project = idProjeto) # criando um cliente que chama o projeto que contém a tabela do bigquery"
      ],
      "metadata": {
        "id": "NsBs43JNWHUe"
      },
      "execution_count": null,
      "outputs": []
    },
    {
      "cell_type": "code",
      "source": [
        "# Criando uma query que seleciona toda as linhas e colunas da tabela do bigquery, criando e lendo um dataframe\n",
        "query = \"\"\"\n",
        "\n",
        "SELECT * FROM `t1engenhariadados.projeto_final_3_3.petroleo_gas`;\n",
        "\n",
        "\n",
        "\"\"\"\n",
        "\n",
        "resultado = cliente.query(query)\n",
        "df = resultado.to_dataframe()\n",
        "df.head()\n"
      ],
      "metadata": {
        "id": "JPy4PF9XYZ0w"
      },
      "execution_count": null,
      "outputs": []
    },
    {
      "cell_type": "code",
      "source": [
        "# Visualização inicial dos dados\n",
        "df.info()\n",
        "df.describe()"
      ],
      "metadata": {
        "id": "4JKwKRb1wFJn"
      },
      "execution_count": null,
      "outputs": []
    },
    {
      "cell_type": "code",
      "source": [
        "# Verifica a quantidade de linhas e colunas e imprime\n",
        "df.shape\n",
        "linhas, colunas = df.shape[0] , df.shape[1]\n",
        "print(f'Linhas - {linhas}')\n",
        "print(f'Colunas - {colunas}')"
      ],
      "metadata": {
        "id": "Gi9opD0dW7fV"
      },
      "execution_count": null,
      "outputs": []
    },
    {
      "cell_type": "code",
      "source": [
        "# Informa os nomes da colunas\n",
        "df.columns"
      ],
      "metadata": {
        "id": "ep0-xzeOc7DH"
      },
      "execution_count": null,
      "outputs": []
    },
    {
      "cell_type": "code",
      "source": [
        "# Mostra a contagem de valores nulos por coluna\n",
        "df.isnull().sum()\n",
        "\n"
      ],
      "metadata": {
        "id": "yMQGSx38wIjL"
      },
      "execution_count": null,
      "outputs": []
    },
    {
      "cell_type": "code",
      "source": [
        "# Mostra os valores únicos em determinada dimensão\n",
        "df[df.isnull().any(axis=1)]"
      ],
      "metadata": {
        "id": "fgkNWZ0feugw"
      },
      "execution_count": null,
      "outputs": []
    },
    {
      "cell_type": "code",
      "source": [
        "# Conta o número de linhas duplicadas\n",
        "df.duplicated().sum()\n",
        "\n",
        "# Mostra as linhas duplicadas (se houver)\n",
        "df[df.duplicated()]"
      ],
      "metadata": {
        "id": "VF96QGbzwMDx"
      },
      "execution_count": null,
      "outputs": []
    },
    {
      "cell_type": "code",
      "source": [
        "# PREPARAÇÃO DOS DADOS\n",
        "# 1.Converter col 'Production Date' para o formato de data (datetime),\n",
        "# permitindo extrair info como ano, mês, etc.\n",
        "df['Production Date'] = pd.to_datetime(df['Production Date'])\n",
        "# 2. Criar uma coluna 'Ano' para facilitar o agrupamento por ano\n",
        "df['Ano'] = df['Production Date'].dt.year\n",
        "df['Mes'] = df['Production Date'].dt.month\n",
        "\n",
        "\n",
        "df.head()"
      ],
      "metadata": {
        "id": "loxJP0M36Civ"
      },
      "execution_count": null,
      "outputs": []
    },
    {
      "cell_type": "markdown",
      "source": [
        "**Análise Classes de Terreno**"
      ],
      "metadata": {
        "id": "NGo7hyz8C0_r"
      }
    },
    {
      "cell_type": "code",
      "source": [
        "# Contagem exata de cada classe\n",
        "print(\"--- Contagem Absoluta ---\")\n",
        "print(df['Land Class'].value_counts())\n",
        "\n",
        "print(\"\\n--- Porcentagem do Total ---\")\n",
        "# Mostra a proporção de cada classe (normalizado)\n",
        "print(df['Land Class'].value_counts(normalize=True) * 100)"
      ],
      "metadata": {
        "id": "3ejBn8O6BR56"
      },
      "execution_count": null,
      "outputs": []
    },
    {
      "cell_type": "code",
      "source": [
        "df['Land Class'].value_counts().plot(kind='bar',figsize =(6,4) )\n",
        "plt.yticks(fontsize=10)\n",
        "plt.xticks(fontsize=10, rotation=45, ha='right')\n",
        "plt.title('Distribuição de Classes de Solo', fontsize=12)\n",
        "plt.xlabel('Classe de Solo', fontsize=12)\n",
        "plt.ylabel('Frequência', fontsize=12)\n",
        "plt.tight_layout()\n",
        "plt.show()\n"
      ],
      "metadata": {
        "id": "WlSw_FMY7O2c"
      },
      "execution_count": null,
      "outputs": []
    },
    {
      "cell_type": "markdown",
      "source": [
        "existem 3 tipos de classes de terrenos:\n",
        "Federal, Mixed Exploratory e Native American"
      ],
      "metadata": {
        "id": "NwEqQmw6HYSI"
      }
    },
    {
      "cell_type": "markdown",
      "source": [
        "**Análise Classes de Terreno**"
      ],
      "metadata": {
        "id": "MVsE9S2UJGP2"
      }
    },
    {
      "cell_type": "code",
      "source": [
        "# Contagem exata de cada classe\n",
        "print(\"--- Contagem Absoluta ---\")\n",
        "print(df['Land Category'].value_counts())\n",
        "\n",
        "print(\"\\n--- Porcentagem do Total ---\")\n",
        "# Mostra a proporção de cada classe (normalizado)\n",
        "print(df['Land Category'].value_counts(normalize=True) * 100)"
      ],
      "metadata": {
        "id": "fw_evqQOImLu"
      },
      "execution_count": null,
      "outputs": []
    },
    {
      "cell_type": "markdown",
      "source": [
        "Análise referente as regiões marítimas onde ocorre produção de recursos"
      ],
      "metadata": {
        "id": "emAPYJyJDl_Q"
      }
    },
    {
      "cell_type": "code",
      "source": [
        "# Contagem exata de cada classe\n",
        "print(\"--- Contagem Absoluta ---\")\n",
        "print(df['Offshore Region'].value_counts())\n",
        "\n",
        "print(\"\\n--- Porcentagem do Total ---\")\n",
        "# Mostra a proporção de cada classe (normalizado)\n",
        "print(df['Offshore Region'].value_counts(normalize=True) * 100)"
      ],
      "metadata": {
        "id": "kjUbD7wZDAn3"
      },
      "execution_count": null,
      "outputs": []
    },
    {
      "cell_type": "markdown",
      "source": [
        "Estados e Condados"
      ],
      "metadata": {
        "id": "6_moF7ISJXGx"
      }
    },
    {
      "cell_type": "code",
      "source": [
        "df['State'].nunique()\n",
        "df['State'].value_counts()"
      ],
      "metadata": {
        "id": "6r9NYqQrJWzF"
      },
      "execution_count": null,
      "outputs": []
    },
    {
      "cell_type": "code",
      "source": [
        "df['County'].nunique()\n",
        "df['County'].value_counts()"
      ],
      "metadata": {
        "id": "iay6TyZ5KAUU"
      },
      "execution_count": null,
      "outputs": []
    },
    {
      "cell_type": "markdown",
      "source": [
        "Recursos extraídos"
      ],
      "metadata": {
        "id": "nYVNZ72MD4en"
      }
    },
    {
      "cell_type": "code",
      "source": [
        "# Contagem exata de cada classe\n",
        "print(\"--- Contagem Absoluta ---\")\n",
        "print(df['Commodity'].value_counts())\n",
        "\n",
        "print(\"\\n--- Porcentagem do Total ---\")\n",
        "# Mostra a proporção de cada classe (normalizado)\n",
        "print(df['Commodity'].value_counts(normalize=True) * 100)"
      ],
      "metadata": {
        "id": "3bp7t0bcG6Ng"
      },
      "execution_count": null,
      "outputs": []
    },
    {
      "cell_type": "markdown",
      "source": [
        "Produção de Recursos Anual"
      ],
      "metadata": {
        "id": "8iFsW518LPfx"
      }
    },
    {
      "cell_type": "code",
      "source": [
        "analise_volume = df.groupby(['Ano', 'Commodity'])['Volume'].sum()\n",
        "print(analise_volume)"
      ],
      "metadata": {
        "id": "NNp-nWoILSGx"
      },
      "execution_count": null,
      "outputs": []
    },
    {
      "cell_type": "code",
      "source": [
        "analise_volume.unstack().plot(kind='bar', figsize=(6,4), color=['#03045e', '#00b4d8'])\n",
        "plt.xlabel('Ano',fontsize=10)\n",
        "plt.yticks(fontsize=10 )\n",
        "plt.xticks(fontsize=10)\n",
        "plt.ylabel('Volume Total em Toneladas',fontsize=10)\n",
        "plt.title('Produção de Recursos Anual',fontsize=10)"
      ],
      "metadata": {
        "id": "KlCKGVWAMB7R"
      },
      "execution_count": null,
      "outputs": []
    },
    {
      "cell_type": "markdown",
      "source": [
        "Quantidade de recursos produzida por mês"
      ],
      "metadata": {
        "id": "X92Xi0ASO6OD"
      }
    },
    {
      "cell_type": "code",
      "source": [
        "\n",
        "# Lista com os nomes dos meses\n",
        "nomes_meses = ['Jan', 'Fev', 'Mar', 'Abr', 'Mai', 'Jun', 'Jul', 'Ago', 'Set', 'Out', 'Nov', 'Dez']\n",
        "\n",
        "# Agrupamento por mês\n",
        "dados_grafico = df.groupby('Mes')['Volume'].sum().sort_index()\n",
        "\n",
        "# Gráfico\n",
        "plt.figure(figsize=(6, 4))\n",
        "plt.plot(dados_grafico.index, dados_grafico.values, marker='o')\n",
        "plt.xticks(ticks=range(1, 13), labels=nomes_meses, fontsize=12)\n",
        "plt.xlabel('Mês', fontsize=12)\n",
        "plt.ylabel('Volume Total em Toneladas', fontsize=12)\n",
        "plt.title('Quantidade Produzida por Mês', fontsize=12)\n",
        "plt.yticks(fontsize=12)\n",
        "plt.grid(False)\n",
        "plt.tight_layout()\n",
        "plt.show()\n"
      ],
      "metadata": {
        "id": "hnMnRnuAOe-z"
      },
      "execution_count": null,
      "outputs": []
    },
    {
      "cell_type": "markdown",
      "source": [
        "Perfil de produção para cada Classe territorial\n"
      ],
      "metadata": {
        "id": "MJFg5v8RUQ8p"
      }
    },
    {
      "cell_type": "code",
      "source": [
        "analise = df.groupby(['Land Class', 'Commodity'])['Volume'].sum()\n",
        "print(analise)"
      ],
      "metadata": {
        "id": "RuIHR5snWcDX"
      },
      "execution_count": null,
      "outputs": []
    },
    {
      "cell_type": "code",
      "source": [
        "analise.sort_values(ascending=False).unstack().plot(kind='barh', figsize=(6,4), color=['#0077b6', '#00b4d8'])\n",
        "plt.yticks(fontsize=10 )\n",
        "plt.xticks(fontsize=10)\n",
        "plt.xlabel('Classe de Solo', fontsize=12)\n",
        "plt.ylabel('Volume Total em Toneladas', fontsize=12)\n",
        "plt.title('Perfil de Produção por Classe de Solo', fontsize=12)\n"
      ],
      "metadata": {
        "id": "FQ8Gvk2hW7gv"
      },
      "execution_count": null,
      "outputs": []
    },
    {
      "cell_type": "markdown",
      "source": [
        "Produção entre condados e estados"
      ],
      "metadata": {
        "id": "cz6ejrpgXIW0"
      }
    },
    {
      "cell_type": "code",
      "source": [
        "on_off = df.groupby(['State', 'County'])['Volume'].sum()\n",
        "print(on_off)"
      ],
      "metadata": {
        "id": "IRQhhDbCXMIG"
      },
      "execution_count": null,
      "outputs": []
    },
    {
      "cell_type": "code",
      "source": [
        "df.groupby(['Commodity', 'State', 'Ano'])['Volume'].sum()"
      ],
      "metadata": {
        "id": "e4EpRs2MYpG-"
      },
      "execution_count": null,
      "outputs": []
    },
    {
      "cell_type": "markdown",
      "source": [
        "Ano e Estado com maior produção de Gas"
      ],
      "metadata": {
        "id": "MJfbNy3NdqCt"
      }
    },
    {
      "cell_type": "code",
      "source": [
        "df_gas = df[df['Commodity'] == 'Gas (Mcf)']\n",
        "gas_production = df_gas.groupby(['Ano', 'State'])['Volume'].sum().reset_index()\n",
        "max_gas_production = gas_production.loc[gas_production['Volume'].idxmax()]\n",
        "print(max_gas_production)\n"
      ],
      "metadata": {
        "id": "MMItld5Vb5YP"
      },
      "execution_count": null,
      "outputs": []
    },
    {
      "cell_type": "markdown",
      "source": [
        "Ano e Estado com Maior produção de Oléo"
      ],
      "metadata": {
        "id": "icPrcePpdy9k"
      }
    },
    {
      "cell_type": "code",
      "source": [
        "df_oil = df[df['Commodity'] == 'Oil (bbl)']\n",
        "oil_production = df_oil.groupby(['Ano', 'State'])['Volume'].sum().reset_index()\n",
        "max_oil_production = oil_production.loc[oil_production['Volume'].idxmax()]\n",
        "print(max_oil_production)"
      ],
      "metadata": {
        "id": "bWGxWNbVdxvE"
      },
      "execution_count": null,
      "outputs": []
    },
    {
      "cell_type": "markdown",
      "source": [
        "Ano e Estado com menor produção de Gas"
      ],
      "metadata": {
        "id": "l5MY1onHePuF"
      }
    },
    {
      "cell_type": "code",
      "source": [
        "df_gas = df[df['Commodity'] == 'Gas (Mcf)']\n",
        "gas_production = df_gas.groupby(['Ano', 'State'])['Volume'].sum().reset_index()\n",
        "min_gas_production = gas_production.loc[gas_production['Volume'].idxmin()]\n",
        "print(min_gas_production)\n"
      ],
      "metadata": {
        "id": "h1Bvz8fyczjZ"
      },
      "execution_count": null,
      "outputs": []
    },
    {
      "cell_type": "markdown",
      "source": [
        "Ano e Estado com menor produção de Oléo"
      ],
      "metadata": {
        "id": "RabDRgA_eTON"
      }
    },
    {
      "cell_type": "code",
      "source": [
        "df_oil = df[df['Commodity'] == 'Oil (bbl)']\n",
        "oil_production = df_oil.groupby(['Ano', 'State'])['Volume'].sum().reset_index()\n",
        "min_oil_production = oil_production.loc[oil_production['Volume'].idxmin()]\n",
        "print(min_oil_production)"
      ],
      "metadata": {
        "id": "fq7kCirXeTn7"
      },
      "execution_count": null,
      "outputs": []
    },
    {
      "cell_type": "markdown",
      "source": [
        "Participação percentual de cada commodity na produção total de cada ano"
      ],
      "metadata": {
        "id": "yYLKjlOUfQ1r"
      }
    },
    {
      "cell_type": "code",
      "source": [
        "# Agrupar por Ano e Commodity e somar os volumes\n",
        "# Isso cria um novo DataFrame com o volume total para cada commodity em cada ano.\n",
        "comm_ano = df.groupby(['Ano', 'Commodity'])['Volume'].sum().reset_index()\n",
        "\n",
        "# Passo 2: Calcular o volume total para cada ano (agora no DataFrame agregado)\n",
        "comm_ano['total_volume_ano'] = comm_ano.groupby('Ano')['Volume'].transform('sum')\n",
        "\n",
        "# Passo 3: Calcular a participação percentual correta\n",
        "comm_ano['percentual'] = (comm_ano['Volume'] / comm_ano['total_volume_ano']) * 100\n",
        "\n",
        "# Passo 4: Formatar e limpar para o resultado final\n",
        "comm_ano['percentual'] = comm_ano['percentual'].map('{:.2f}%'.format)\n",
        "comm_ano = comm_ano.drop(columns=['total_volume_ano'])\n",
        "\n",
        "# Exibe o DataFrame final com o insight correto\n",
        "print(\"Participação Percentual TOTAL de Cada Commodity por Ano:\")\n",
        "print(comm_ano)"
      ],
      "metadata": {
        "id": "KILTIMo1fN68"
      },
      "execution_count": null,
      "outputs": []
    },
    {
      "cell_type": "markdown",
      "source": [
        "### Média Anual de produção de oléo e gás"
      ],
      "metadata": {
        "id": "R45mn2TtGivs"
      }
    },
    {
      "cell_type": "code",
      "source": [
        "df_oleo = df[df['Commodity'] == 'Oil (bbl)']\n",
        "df_gas = df[df['Commodity'] ==  'Gas (Mcf)']\n",
        "\n",
        "media_oleo = df_oleo.groupby('Ano')['Volume'].mean().round(2)\n",
        "media_gas = df_gas.groupby('Ano')['Volume'].mean().round(2)\n",
        "\n",
        "print(\"Média produção anual de oléo \\n\",media_oleo)\n",
        "print(\"Média produção anual de gás \\n\",media_gas)"
      ],
      "metadata": {
        "id": "Vz6sThdtGs6W"
      },
      "execution_count": null,
      "outputs": []
    },
    {
      "cell_type": "code",
      "source": [
        "# Salvando em csv\n",
        "df.to_csv('petroleo_gas_tratado.csv', index=False)"
      ],
      "metadata": {
        "id": "vSrHFNYsErIz"
      },
      "execution_count": null,
      "outputs": []
    },
    {
      "cell_type": "code",
      "source": [
        "# Baixar em csv\n",
        "from google.colab import files\n",
        "files.download('petroleo_gas_tratado.csv')"
      ],
      "metadata": {
        "id": "OG-pD6wdEtX1"
      },
      "execution_count": null,
      "outputs": []
    }
  ]
}