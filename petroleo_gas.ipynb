{
  "nbformat": 4,
  "nbformat_minor": 0,
  "metadata": {
    "colab": {
      "private_outputs": true,
      "provenance": [],
      "include_colab_link": true
    },
    "kernelspec": {
      "name": "python3",
      "display_name": "Python 3"
    },
    "language_info": {
      "name": "python"
    }
  },
  "cells": [
    {
      "cell_type": "markdown",
      "metadata": {
        "id": "view-in-github",
        "colab_type": "text"
      },
      "source": [
        "<a href=\"https://colab.research.google.com/github/zairaamatori/projeto-final-desenvolve/blob/main/petroleo_gas.ipynb\" target=\"_parent\"><img src=\"https://colab.research.google.com/assets/colab-badge.svg\" alt=\"Open In Colab\"/></a>"
      ]
    },
    {
      "cell_type": "code",
      "execution_count": null,
      "metadata": {
        "id": "5a75cxYJR87O"
      },
      "outputs": [],
      "source": [
        "!pip install --upgrade google-cloud-bigquery\n"
      ]
    },
    {
      "cell_type": "code",
      "source": [
        "from google.colab import auth\n",
        "auth.authenticate_user()"
      ],
      "metadata": {
        "id": "lNuiLu_dUT09"
      },
      "execution_count": null,
      "outputs": []
    },
    {
      "cell_type": "code",
      "source": [
        "from google.cloud import bigquery\n",
        "\n",
        "import pandas as pd\n",
        "import numpy as np\n",
        "import matplotlib.pyplot as plt\n",
        "\n",
        "idProjeto = \"t1engenhariadados\"\n",
        "\n",
        "cliente = bigquery.Client(project = idProjeto)"
      ],
      "metadata": {
        "id": "NsBs43JNWHUe"
      },
      "execution_count": null,
      "outputs": []
    },
    {
      "cell_type": "code",
      "source": [
        "query = \"\"\"\n",
        "\n",
        "SELECT * FROM `t1engenhariadados.projeto_final_3_3.petroleo_gas`;\n",
        "\n",
        "\n",
        "\"\"\"\n",
        "\n",
        "resultado = cliente.query(query)\n",
        "df = resultado.to_dataframe()\n",
        "df.head()\n"
      ],
      "metadata": {
        "id": "JPy4PF9XYZ0w"
      },
      "execution_count": null,
      "outputs": []
    },
    {
      "cell_type": "code",
      "source": [
        "# Visualização inicial dos dados\n",
        "df.info()\n",
        "df.describe()"
      ],
      "metadata": {
        "id": "4JKwKRb1wFJn"
      },
      "execution_count": null,
      "outputs": []
    },
    {
      "cell_type": "code",
      "source": [
        "# Mostra a contagem de valores nulos por coluna\n",
        "df.isnull().sum()"
      ],
      "metadata": {
        "id": "yMQGSx38wIjL"
      },
      "execution_count": null,
      "outputs": []
    },
    {
      "cell_type": "code",
      "source": [
        "# Excluir linhas com nulos\n",
        "df.dropna(inplace=True)"
      ],
      "metadata": {
        "id": "90Msn-I7wLjP"
      },
      "execution_count": null,
      "outputs": []
    },
    {
      "cell_type": "code",
      "source": [
        "# Conta o número de linhas duplicadas\n",
        "df.duplicated().sum()\n",
        "\n",
        "# Mostra as linhas duplicadas (se houver)\n",
        "df[df.duplicated()]"
      ],
      "metadata": {
        "id": "VF96QGbzwMDx"
      },
      "execution_count": null,
      "outputs": []
    }
  ]
}