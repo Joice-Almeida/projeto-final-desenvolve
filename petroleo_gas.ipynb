{
  "nbformat": 4,
  "nbformat_minor": 0,
  "metadata": {
    "colab": {
      "private_outputs": true,
      "provenance": [],
      "include_colab_link": true
    },
    "kernelspec": {
      "name": "python3",
      "display_name": "Python 3"
    },
    "language_info": {
      "name": "python"
    }
  },
  "cells": [
    {
      "cell_type": "markdown",
      "metadata": {
        "id": "view-in-github",
        "colab_type": "text"
      },
      "source": [
        "<a href=\"https://colab.research.google.com/github/Joice-Almeida/projeto-final-desenvolve/blob/main/petroleo_gas.ipynb\" target=\"_parent\"><img src=\"https://colab.research.google.com/assets/colab-badge.svg\" alt=\"Open In Colab\"/></a>"
      ]
    },
    {
      "cell_type": "code",
      "execution_count": null,
      "metadata": {
        "id": "5a75cxYJR87O"
      },
      "outputs": [],
      "source": [
        "!pip install --upgrade google-cloud-bigquery\n"
      ]
    },
    {
      "cell_type": "code",
      "source": [
        "from google.colab import auth\n",
        "auth.authenticate_user()"
      ],
      "metadata": {
        "id": "lNuiLu_dUT09"
      },
      "execution_count": null,
      "outputs": []
    },
    {
      "cell_type": "code",
      "source": [
        "from google.cloud import bigquery\n",
        "\n",
        "import pandas as pd\n",
        "import numpy as np\n",
        "import matplotlib.pyplot as plt\n",
        "\n",
        "idProjeto = \"t1engenhariadados\"\n",
        "\n",
        "cliente = bigquery.Client(project = idProjeto)"
      ],
      "metadata": {
        "id": "NsBs43JNWHUe"
      },
      "execution_count": null,
      "outputs": []
    },
    {
      "cell_type": "code",
      "source": [
        "query = \"\"\"\n",
        "\n",
        "SELECT * FROM `t1engenhariadados.projeto_final_3_3.petroleo_gas`;\n",
        "\n",
        "\n",
        "\"\"\"\n",
        "\n",
        "resultado = cliente.query(query)\n",
        "df = resultado.to_dataframe()\n",
        "df.head()\n"
      ],
      "metadata": {
        "id": "JPy4PF9XYZ0w"
      },
      "execution_count": null,
      "outputs": []
    },
    {
      "cell_type": "code",
      "source": [
        "# Visualização inicial dos dados\n",
        "df.info()\n",
        "df.describe()"
      ],
      "metadata": {
        "id": "4JKwKRb1wFJn"
      },
      "execution_count": null,
      "outputs": []
    },
    {
      "cell_type": "code",
      "source": [
        "# Mostra a contagem de valores nulos por coluna\n",
        "df.isnull().sum()"
      ],
      "metadata": {
        "id": "yMQGSx38wIjL"
      },
      "execution_count": null,
      "outputs": []
    },
    {
      "cell_type": "code",
      "source": [
        "# Excluir linhas com nulos\n",
        "df.dropna(inplace=True)"
      ],
      "metadata": {
        "id": "90Msn-I7wLjP"
      },
      "execution_count": null,
      "outputs": []
    },
    {
      "cell_type": "code",
      "source": [
        "# Conta o número de linhas duplicadas\n",
        "df.duplicated().sum()\n",
        "\n",
        "# Mostra as linhas duplicadas (se houver)\n",
        "df[df.duplicated()]"
      ],
      "metadata": {
        "id": "VF96QGbzwMDx"
      },
      "execution_count": null,
      "outputs": []
    },
    {
      "cell_type": "code",
      "source": [
        "# PREPARAÇÃO DOS DADOS\n",
        "# 1.Converter col 'Production Date' para o formato de data (datetime),\n",
        "# permitindo extrair info como ano, mês, etc.\n",
        "df['Production Date'] = pd.to_datetime(df['Production Date'])\n",
        "# 2. Criar uma coluna 'Ano' para facilitar o agrupamento por ano\n",
        "df['Ano'] = df['Production Date'].dt.year\n",
        "\n",
        "\n",
        "df.head()"
      ],
      "metadata": {
        "id": "loxJP0M36Civ"
      },
      "execution_count": null,
      "outputs": []
    },
    {
      "cell_type": "code",
      "source": [
        "df.to_csv('dados_tratados.csv', index=False)"
      ],
      "metadata": {
        "id": "tLk3wPV1AsdS"
      },
      "execution_count": null,
      "outputs": []
    },
    {
      "cell_type": "code",
      "source": [
        "from google.colab import files\n",
        "files.download('dados_tratados.csv')"
      ],
      "metadata": {
        "id": "v8q78UWbZlGH"
      },
      "execution_count": null,
      "outputs": []
    }
  ]
}