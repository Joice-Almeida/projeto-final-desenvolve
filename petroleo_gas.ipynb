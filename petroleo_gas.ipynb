
    {
      "cell_type": "code",
      "source": [
        "# PREPARAÇÃO DOS DADOS\n",
        "# 1.Converter col 'Production Date' para o formato de data (datetime),\n",
        "# permitindo extrair info como ano, mês, etc.\n",
        "df['Production Date'] = pd.to_datetime(df['Production Date'])\n",
        "# 2. Criar uma coluna 'Ano' para facilitar o agrupamento por ano\n",
        "df['Ano'] = df['Production Date'].dt
        "df['Mes'] = df['Production Date'].dt.month\n",

        "\n",
        "\n",
        "df.head()"
      ],
      "metadata": {
        "id": "loxJP0M36Civ"
      },
      "execution_count": null,
      "outputs": []
    },
    {
      "cell_type": "code",
      "source": [
        "df.to_csv('dados_tratados.csv', index=False)"
      ],
      "metadata": {
        "id": "tLk3wPV1AsdS"
      },
      "execution_count": null,
      "outputs": []

    },
    {
      "cell_type": "markdown",
      "source": [
        "**ANALISE EXPLORATÓRIA**"
      ],
      "metadata": {
        "id": "dJdSdDHS7Pqy"
      }
    },
    {
      "cell_type": "markdown",
      "source": [
        "**Análise Classes de Terreno**"
      ],
      "metadata": {
        "id": "NGo7hyz8C0_r"
      }
    },
    {
      "cell_type": "code",
      "source": [
        "# Contagem exata de cada classe\n",
        "print(\"--- Contagem Absoluta ---\")\n",
        "print(df['Land Class'].value_counts())\n",
        "\n",
        "print(\"\\n--- Porcentagem do Total ---\")\n",
        "# Mostra a proporção de cada classe (normalizado)\n",
        "print(df['Land Class'].value_counts(normalize=True) * 100)"
      ],
      "metadata": {
        "id": "3ejBn8O6BR56"
      },
      "execution_count": null,
      "outputs": []
    },
    {
      "cell_type": "code",
      "source": [
        "df['Land Class'].value_counts().plot(kind='bar',figsize =(6,4) )\n",
        "plt.yticks(fontsize=10)\n",
        "plt.xticks(fontsize=10, rotation=45, ha='right')\n",
        "plt.title('Distribuição de Classes de Solo', fontsize=12)\n",
        "plt.xlabel('Classe de Solo', fontsize=12)\n",
        "plt.ylabel('Frequência', fontsize=12)\n",
        "plt.tight_layout()\n",
        "plt.show()\n"
      ],
      "metadata": {
        "id": "WlSw_FMY7O2c"
      },
      "execution_count": null,
      "outputs": []
    },
    {
      "cell_type": "markdown",
      "source": [
        "existem 3 tipos de classes de terrenos:\n",
        "Federal, Mixed Exploratory e Native American"
      ],
      "metadata": {
        "id": "NwEqQmw6HYSI"
      }
    },
    {
      "cell_type": "markdown",
      "source": [
        "**Análise Classes de Terreno**"
      ],
      "metadata": {
        "id": "MVsE9S2UJGP2"
      }
    },
    {
      "cell_type": "code",
      "source": [
        "# Contagem exata de cada classe\n",
        "print(\"--- Contagem Absoluta ---\")\n",
        "print(df['Land Category'].value_counts())\n",
        "\n",
        "print(\"\\n--- Porcentagem do Total ---\")\n",
        "# Mostra a proporção de cada classe (normalizado)\n",
        "print(df['Land Category'].value_counts(normalize=True) * 100)"
      ],
      "metadata": {
        "id": "fw_evqQOImLu"
      },
      "execution_count": null,
      "outputs": []
    },
    {
      "cell_type": "markdown",
      "source": [
        "Análise referente as regiões marítimas onde ocorre produção de recursos"
      ],
      "metadata": {
        "id": "emAPYJyJDl_Q"
      }
    },
    {
      "cell_type": "code",
      "source": [
        "# Contagem exata de cada classe\n",
        "print(\"--- Contagem Absoluta ---\")\n",
        "print(df['Offshore Region'].value_counts())\n",
        "\n",
        "print(\"\\n--- Porcentagem do Total ---\")\n",
        "# Mostra a proporção de cada classe (normalizado)\n",
        "print(df['Offshore Region'].value_counts(normalize=True) * 100)"
      ],
      "metadata": {
        "id": "kjUbD7wZDAn3"
      },
      "execution_count": null,
      "outputs": []
    },
    {
      "cell_type": "markdown",
      "source": [
        "Estados e Condados"
      ],
      "metadata": {
        "id": "6_moF7ISJXGx"
      }
    },
    {
      "cell_type": "code",
      "source": [
        "df['State'].nunique()\n",
        "df['State'].value_counts()"
      ],
      "metadata": {
        "id": "6r9NYqQrJWzF"
      },
      "execution_count": null,
      "outputs": []
    },
    {
      "cell_type": "code",
      "source": [
        "df['County'].nunique()\n",
        "df['County'].value_counts()"
      ],
      "metadata": {
        "id": "iay6TyZ5KAUU"
      },
      "execution_count": null,
      "outputs": []
    },
    {
      "cell_type": "markdown",
      "source": [
        "Recursos extraídos"
      ],
      "metadata": {
        "id": "nYVNZ72MD4en"
      }
    },
    {
      "cell_type": "code",
      "source": [
        "# Contagem exata de cada classe\n",
        "print(\"--- Contagem Absoluta ---\")\n",
        "print(df['Commodity'].value_counts())\n",
        "\n",
        "print(\"\\n--- Porcentagem do Total ---\")\n",
        "# Mostra a proporção de cada classe (normalizado)\n",
        "print(df['Commodity'].value_counts(normalize=True) * 100)"
      ],
      "metadata": {
        "id": "3bp7t0bcG6Ng"
      },
      "execution_count": null,
      "outputs": []
    },
    {
      "cell_type": "markdown",
      "source": [
        "Produção de Recursos Anual"
      ],
      "metadata": {
        "id": "8iFsW518LPfx"
      }
    },
    {
      "cell_type": "code",
      "source": [
        "analise_volume = df.groupby(['Ano', 'Commodity'])['Volume'].sum()\n",
        "print(analise_volume)"
      ],
      "metadata": {
        "id": "NNp-nWoILSGx"
      },
      "execution_count": null,
      "outputs": []
    },
    {
      "cell_type": "code",
      "source": [
        "analise_volume.unstack().plot(kind='bar', figsize=(6,4), color=['#03045e', '#00b4d8'])\n",
        "plt.xlabel('Ano',fontsize=10)\n",
        "plt.yticks(fontsize=10 )\n",
        "plt.xticks(fontsize=10)\n",
        "plt.ylabel('Volume Total em Toneladas',fontsize=10)\n",
        "plt.title('Produção de Recursos Anual',fontsize=10)"
      ],
      "metadata": {
        "id": "KlCKGVWAMB7R"
      },
      "execution_count": null,
      "outputs": []
    },
    {
      "cell_type": "markdown",
      "source": [
        "Quantidade de recursos produzida por mês"
      ],
      "metadata": {
        "id": "X92Xi0ASO6OD"
      }
    },
    {
      "cell_type": "code",
      "source": [
        "\n",
        "dados_grafico = df.groupby('Mes')['Volume'].sum()\n",
        "plt.figure(figsize=(6, 4))\n",
        "plt.plot(dados_grafico.index, dados_grafico.values)\n",
        "plt.xticks(range(1, 13), fontsize= 12)\n",
        "plt.xlabel('Mês', fontsize=12)\n",
        "plt.yticks(fontsize=12)\n",
        "plt.ylabel('Volume Total em Toneladas', fontsize=12)\n",
        "plt.title('Quantidade Produzida por Mês', fontsize=12)\n",
        "plt.show()\n"
      ],
      "metadata": {
        "id": "hnMnRnuAOe-z"
      },
      "execution_count": null,
      "outputs": []
    },
    {
      "cell_type": "markdown",
      "source": [
        "Perfil de produção para cada Classe territorial\n"
      ],
      "metadata": {
        "id": "MJFg5v8RUQ8p"
      }
    },
    {
      "cell_type": "code",
      "source": [
        "analise = df.groupby(['Land Class', 'Commodity'])['Volume'].sum()\n",
        "print(analise)"
      ],
      "metadata": {
        "id": "RuIHR5snWcDX"
      },
      "execution_count": null,
      "outputs": []
    },
    {
      "cell_type": "code",
      "source": [
        "analise.unstack().plot(kind='bar', figsize=(6,4), color=['#0077b6', '#00b4d8'])\n",
        "plt.yticks(fontsize=10 )\n",
        "plt.xticks(fontsize=10)\n",
        "plt.xlabel('Classe de Solo', fontsize=12)\n",
        "plt.ylabel('Volume Total em Toneladas', fontsize=12)\n",
        "plt.title('Perfil de Produção por Classe de Solo', fontsize=12)\n"
      ],
      "metadata": {
        "id": "FQ8Gvk2hW7gv"
      },
      "execution_count": null,
      "outputs": []
    },
    {
      "cell_type": "markdown",
      "source": [
        "Produção entre condados e estados"
      ],
      "metadata": {
        "id": "cz6ejrpgXIW0"
      }
    },
    {
      "cell_type": "code",
      "source": [
        "on_off = df.groupby(['State', 'County'])['Volume'].sum()\n",
        "print(on_off)"
      ],
      "metadata": {
        "id": "IRQhhDbCXMIG"
      },
      "execution_count": null,
      "outputs": []
    },
    {
      "cell_type": "code",
      "source": [
        "df.groupby(['Commodity', 'State', 'Ano'])['Volume'].sum()"
      ],
      "metadata": {
        "id": "e4EpRs2MYpG-"
      },
      "execution_count": null,
      "outputs": []
    },
    {
      "cell_type": "markdown",
      "source": [
        "Ano e Estado com maior produção de Gas"
      ],
      "metadata": {
        "id": "MJfbNy3NdqCt"
      }
    },
    {
      "cell_type": "code",
      "source": [
        "df_gas = df[df['Commodity'] == 'Gas (Mcf)']\n",
        "gas_production = df_gas.groupby(['Ano', 'State'])['Volume'].sum().reset_index()\n",
        "max_gas_production = gas_production.loc[gas_production['Volume'].idxmax()]\n",
        "print(max_gas_production)\n"
      ],
      "metadata": {
        "id": "MMItld5Vb5YP"
      },
      "execution_count": null,
      "outputs": []
    },
    {
      "cell_type": "markdown",
      "source": [
        "Ano e Estado com Maior produção de Oléo"
      ],
      "metadata": {
        "id": "icPrcePpdy9k"
      }
    },
    {
      "cell_type": "code",
      "source": [
        "df_oil = df[df['Commodity'] == 'Oil (bbl)']\n",
        "oil_production = df_oil.groupby(['Ano', 'State'])['Volume'].sum().reset_index()\n",
        "max_oil_production = oil_production.loc[oil_production['Volume'].idxmax()]\n",
        "print(max_oil_production)"
      ],
      "metadata": {
        "id": "bWGxWNbVdxvE"
      },
      "execution_count": null,
      "outputs": []
    },
    {
      "cell_type": "markdown",
      "source": [
        "Ano e Estado com menor produção de Gas"
      ],
      "metadata": {
        "id": "l5MY1onHePuF"
      }
    },
    {
      "cell_type": "code",
      "source": [
        "df_gas = df[df['Commodity'] == 'Gas (Mcf)']\n",
        "gas_production = df_gas.groupby(['Ano', 'State'])['Volume'].sum().reset_index()\n",
        "min_gas_production = gas_production.loc[gas_production['Volume'].idxmin()]\n",
        "print(min_gas_production)\n"
      ],
      "metadata": {
        "id": "h1Bvz8fyczjZ"
      },
      "execution_count": null,
      "outputs": []
    },
    {
      "cell_type": "markdown",
      "source": [
        "Ano e Estado com menor produção de Oléo"
      ],
      "metadata": {
        "id": "RabDRgA_eTON"
      }
    },
    {
      "cell_type": "code",
      "source": [
        "df_oil = df[df['Commodity'] == 'Oil (bbl)']\n",
        "oil_production = df_oil.groupby(['Ano', 'State'])['Volume'].sum().reset_index()\n",
        "min_oil_production = oil_production.loc[oil_production['Volume'].idxmin()]\n",
        "print(min_oil_production)"
      ],
      "metadata": {
        "id": "fq7kCirXeTn7"
      },
      "execution_count": null,
      "outputs": []
    },
    {
      "cell_type": "markdown",
      "source": [
        "Participação percentual de cada commodity na produção total de cada ano"
      ],
      "metadata": {
        "id": "yYLKjlOUfQ1r"
      }
    },
    {
      "cell_type": "code",
      "source": [
        "# Agrupar por Ano e Commodity e somar os volumes\n",
        "# Isso cria um novo DataFrame com o volume total para cada commodity em cada ano.\n",
        "comm_ano = df.groupby(['Ano', 'Commodity'])['Volume'].sum().reset_index()\n",
        "\n",
        "# Passo 2: Calcular o volume total para cada ano (agora no DataFrame agregado)\n",
        "comm_ano['total_volume_ano'] = comm_ano.groupby('Ano')['Volume'].transform('sum')\n",
        "\n",
        "# Passo 3: Calcular a participação percentual correta\n",
        "comm_ano['percentual'] = (comm_ano['Volume'] / comm_ano['total_volume_ano']) * 100\n",
        "\n",
        "# Passo 4: Formatar e limpar para o resultado final\n",
        "comm_ano['percentual'] = comm_ano['percentual'].map('{:.2f}%'.format)\n",
        "comm_ano = comm_ano.drop(columns=['total_volume_ano'])\n",
        "\n",
        "# Exibe o DataFrame final com o insight correto\n",
        "print(\"Participação Percentual TOTAL de Cada Commodity por Ano:\")\n",
        "print(comm_ano)"
      ],
      "metadata": {
        "id": "KILTIMo1fN68"
      },
      "execution_count": null,
      "outputs": []

    }
  ]
}